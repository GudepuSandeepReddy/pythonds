{
  "nbformat": 4,
  "nbformat_minor": 0,
  "metadata": {
    "colab": {
      "provenance": [],
      "authorship_tag": "ABX9TyPX9GmwIHGzD9ZQ40dmF14u",
      "include_colab_link": true
    },
    "kernelspec": {
      "name": "python3",
      "display_name": "Python 3"
    },
    "language_info": {
      "name": "python"
    }
  },
  "cells": [
    {
      "cell_type": "markdown",
      "metadata": {
        "id": "view-in-github",
        "colab_type": "text"
      },
      "source": [
        "<a href=\"https://colab.research.google.com/github/GudepuSandeepReddy/pythonds/blob/main/DataFramesOperations.ipynb\" target=\"_parent\"><img src=\"https://colab.research.google.com/assets/colab-badge.svg\" alt=\"Open In Colab\"/></a>"
      ]
    },
    {
      "cell_type": "code",
      "execution_count": 3,
      "metadata": {
        "colab": {
          "base_uri": "https://localhost:8080/"
        },
        "id": "Cw36oFtw2C6W",
        "outputId": "d4ac88d0-56fa-45db-a3b6-21a48ec54f2d"
      },
      "outputs": [
        {
          "output_type": "stream",
          "name": "stdout",
          "text": [
            "    Name  Age Gender\n",
            "0   Abcd   22      F\n",
            "1  sdgfd   30      M\n",
            "2   wert   35      M\n",
            "3   sdfg   40      F\n",
            "    Name  Age Gender\n",
            "1  sdgfd   30      M\n",
            "2   wert   35      M\n",
            "3   sdfg   40      F\n"
          ]
        }
      ],
      "source": [
        "#filtering the data\n",
        "import pandas as pd\n",
        "d={\n",
        "    'Name':['Abcd','sdgfd','wert','sdfg'],\n",
        "    'Age':[22,30,35,40],\n",
        "    'Gender':['F','M','M','F']\n",
        "}\n",
        "dataframe=pd.DataFrame(d)\n",
        "print(dataframe)\n",
        "#Filtering rows for age >23\n",
        "filtered_data=dataframe[dataframe['Age']>23]\n",
        "print(filtered_data)"
      ]
    },
    {
      "cell_type": "code",
      "source": [
        "#adding coloums for dataframe\n",
        "import pandas as pd\n",
        "d={\n",
        "    'Name':['Abcd','sdgfd','wert','sdfg'],\n",
        "    'Age':[22,30,35,40],\n",
        "    'Gender':['F','M','M','F']\n",
        "}\n",
        "dataframe=pd.DataFrame(d)\n",
        "print(dataframe)\n",
        "\n",
        "\n",
        "dataframe['city']=['vij','bez','bang','doom']\n",
        "print(dataframe)"
      ],
      "metadata": {
        "colab": {
          "base_uri": "https://localhost:8080/"
        },
        "id": "umf2DSAL3nIn",
        "outputId": "ded95fed-10c6-438c-820f-ae25aace6096"
      },
      "execution_count": 4,
      "outputs": [
        {
          "output_type": "stream",
          "name": "stdout",
          "text": [
            "    Name  Age Gender\n",
            "0   Abcd   22      F\n",
            "1  sdgfd   30      M\n",
            "2   wert   35      M\n",
            "3   sdfg   40      F\n",
            "    Name  Age Gender  city\n",
            "0   Abcd   22      F   vij\n",
            "1  sdgfd   30      M   bez\n",
            "2   wert   35      M  bang\n",
            "3   sdfg   40      F  doom\n"
          ]
        }
      ]
    },
    {
      "cell_type": "code",
      "source": [
        "#Aggregation and grouping\n",
        "import pandas as pd\n",
        "d={\n",
        "    'Name':['Abcd','sdgfd','wert','sdfg'],\n",
        "    'Age':[22,30,35,40],\n",
        "    'Gender':['F','M','M','F']\n",
        "}\n",
        "dataframe=pd.DataFrame(d)\n",
        "print(dataframe)\n",
        "grouped_df= dataframe.groupby('Gender').agg({'Age':'median'})\n",
        "print(grouped_df)"
      ],
      "metadata": {
        "colab": {
          "base_uri": "https://localhost:8080/"
        },
        "id": "lOUU2-Tp6GM9",
        "outputId": "4d0687b0-ff54-4bec-b765-e3fb01d770f1"
      },
      "execution_count": 7,
      "outputs": [
        {
          "output_type": "stream",
          "name": "stdout",
          "text": [
            "    Name  Age Gender\n",
            "0   Abcd   22      F\n",
            "1  sdgfd   30      M\n",
            "2   wert   35      M\n",
            "3   sdfg   40      F\n",
            "         Age\n",
            "Gender      \n",
            "F       31.0\n",
            "M       32.5\n"
          ]
        }
      ]
    },
    {
      "cell_type": "code",
      "source": [
        "#import pandas as pd\n",
        "d={\n",
        "    'Name':['Abcd','sdgfd','wert','sdfg'],\n",
        "    'Age':[22,30,35,40],\n",
        "    'Gender':['F','M','M','F']\n",
        "}\n",
        "dataframe=pd.DataFrame(d)\n",
        "print(dataframe)\n",
        "sorted_df = dataframe.sort_values(by='Gender')\n",
        "print(sorted_df)"
      ],
      "metadata": {
        "colab": {
          "base_uri": "https://localhost:8080/"
        },
        "id": "9t5_MozF9I9O",
        "outputId": "41eaede0-84ea-46e8-9221-b5f064e3f9d1"
      },
      "execution_count": 8,
      "outputs": [
        {
          "output_type": "stream",
          "name": "stdout",
          "text": [
            "    Name  Age Gender\n",
            "0   Abcd   22      F\n",
            "1  sdgfd   30      M\n",
            "2   wert   35      M\n",
            "3   sdfg   40      F\n",
            "    Name  Age Gender\n",
            "0   Abcd   22      F\n",
            "3   sdfg   40      F\n",
            "1  sdgfd   30      M\n",
            "2   wert   35      M\n"
          ]
        }
      ]
    },
    {
      "cell_type": "code",
      "source": [
        "#data transformation\n",
        "import pandas as pd\n",
        "d={\n",
        "    'Name':['Abcd','sdgfd','wert','sdfg'],\n",
        "    'Age':[22,30,35,40],\n",
        "    'Gender':['F','M','M','F']\n",
        "}\n",
        "dataframe=pd.DataFrame(d)\n",
        "print(dataframe)\n",
        "dataframe['Age']=dataframe['Age'].apply(lambda x:x+5)\n",
        "print(dataframe)\n"
      ],
      "metadata": {
        "colab": {
          "base_uri": "https://localhost:8080/"
        },
        "id": "pDx2NQnx-g9T",
        "outputId": "d6ce1dbc-0a32-4161-e47a-93a2899b5cf4"
      },
      "execution_count": 9,
      "outputs": [
        {
          "output_type": "stream",
          "name": "stdout",
          "text": [
            "    Name  Age Gender\n",
            "0   Abcd   22      F\n",
            "1  sdgfd   30      M\n",
            "2   wert   35      M\n",
            "3   sdfg   40      F\n",
            "    Name  Age Gender\n",
            "0   Abcd   27      F\n",
            "1  sdgfd   35      M\n",
            "2   wert   40      M\n",
            "3   sdfg   45      F\n"
          ]
        }
      ]
    },
    {
      "cell_type": "code",
      "source": [
        "#Reshaping the data(pivot)\n",
        "import pandas as pd\n",
        "d={\n",
        "    'Name':['Abcd','sdgfd','wert','sdfg'],\n",
        "    'Age':[22,30,35,40],\n",
        "    'Gender':['F','M','M','F']\n",
        "}\n",
        "dataframe=pd.DataFrame(d)\n",
        "print(dataframe)\n",
        "\n",
        "pivot_table=dataframe.pivot(index='Age',columns='Gender', values='Name')\n",
        "print(pivot_table)"
      ],
      "metadata": {
        "colab": {
          "base_uri": "https://localhost:8080/"
        },
        "id": "o-P-hAEzAHhS",
        "outputId": "9ded8dc9-741a-46c6-ac22-b8cbda2921aa"
      },
      "execution_count": 14,
      "outputs": [
        {
          "output_type": "stream",
          "name": "stdout",
          "text": [
            "    Name  Age Gender\n",
            "0   Abcd   22      F\n",
            "1  sdgfd   30      M\n",
            "2   wert   35      M\n",
            "3   sdfg   40      F\n",
            "Gender     F      M\n",
            "Age                \n",
            "22      Abcd    NaN\n",
            "30       NaN  sdgfd\n",
            "35       NaN   wert\n",
            "40      sdfg    NaN\n"
          ]
        }
      ]
    },
    {
      "cell_type": "code",
      "source": [
        "#Merging the data.\n",
        "import pandas as pd\n",
        "d={\n",
        "    'Name':['Abcd','sdgfd','wert','sdfg'],\n",
        "    'Age':[22,30,35,40],\n",
        "    'Gender':['F','M','M','F']\n",
        "}\n",
        "dataframe1=pd.DataFrame(d)\n",
        "print(dataframe1)\n",
        "d1={\n",
        "    'Name':['Abcd','ghjk','wert','asdf'],\n",
        "    'Age':[13,18,56,45],\n",
        "    'Gender':['F','M','M','F']\n",
        "}\n",
        "dataframe2=pd.DataFrame(d1)\n",
        "print(dataframe2)\n",
        "#atleast one column must be same in two datatables\n",
        "\n",
        "merged_df=pd.merge(dataframe1,dataframe2, on ='Name')\n",
        "print(merged_df)\n",
        "\n"
      ],
      "metadata": {
        "colab": {
          "base_uri": "https://localhost:8080/"
        },
        "id": "j5Ik-EJECLru",
        "outputId": "bfe9614c-b2be-4023-fb6d-f313cc97c037"
      },
      "execution_count": 12,
      "outputs": [
        {
          "output_type": "stream",
          "name": "stdout",
          "text": [
            "    Name  Age Gender\n",
            "0   Abcd   22      F\n",
            "1  sdgfd   30      M\n",
            "2   wert   35      M\n",
            "3   sdfg   40      F\n",
            "   Name  Age Gender\n",
            "0  Abcd   13      F\n",
            "1  ghjk   18      M\n",
            "2  wert   56      M\n",
            "3  asdf   45      F\n",
            "   Name  Age_x Gender_x  Age_y Gender_y\n",
            "0  Abcd     22        F     13        F\n",
            "1  wert     35        M     56        M\n"
          ]
        }
      ]
    },
    {
      "cell_type": "code",
      "source": [
        "#concatenation\n",
        "import pandas as pd\n",
        "d={\n",
        "    'Name':['Abcd','sdgfd','wert','sdfg'],\n",
        "    'Age':[22,30,35,40],\n",
        "    'Gender':['F','M','M','F']\n",
        "}\n",
        "dataframe1=pd.DataFrame(d)\n",
        "print(dataframe1)\n",
        "d1={\n",
        "    'City':['Abcd','ghjk','wert','asdf'],\n",
        "    'Dob':[13,18,56,45],\n",
        "    'Area':['F','M','M','F']\n",
        "}\n",
        "dataframe2=pd.DataFrame(d1)\n",
        "print(dataframe2)\n",
        "\n",
        "\n",
        "print(pd.concat([dataframe1,dataframe2]))\n"
      ],
      "metadata": {
        "colab": {
          "base_uri": "https://localhost:8080/"
        },
        "id": "3Ic8VAuiDfRL",
        "outputId": "8ec68d45-1a51-46bf-e39b-0504ff72ecfb"
      },
      "execution_count": 13,
      "outputs": [
        {
          "output_type": "stream",
          "name": "stdout",
          "text": [
            "    Name  Age Gender\n",
            "0   Abcd   22      F\n",
            "1  sdgfd   30      M\n",
            "2   wert   35      M\n",
            "3   sdfg   40      F\n",
            "   City  Dob Area\n",
            "0  Abcd   13    F\n",
            "1  ghjk   18    M\n",
            "2  wert   56    M\n",
            "3  asdf   45    F\n",
            "    Name   Age Gender  City   Dob Area\n",
            "0   Abcd  22.0      F   NaN   NaN  NaN\n",
            "1  sdgfd  30.0      M   NaN   NaN  NaN\n",
            "2   wert  35.0      M   NaN   NaN  NaN\n",
            "3   sdfg  40.0      F   NaN   NaN  NaN\n",
            "0    NaN   NaN    NaN  Abcd  13.0    F\n",
            "1    NaN   NaN    NaN  ghjk  18.0    M\n",
            "2    NaN   NaN    NaN  wert  56.0    M\n",
            "3    NaN   NaN    NaN  asdf  45.0    F\n"
          ]
        }
      ]
    },
    {
      "cell_type": "code",
      "source": [
        "#Missing Data\n",
        "import pandas as pd\n",
        "import numpy as np\n",
        "\n",
        "d={\n",
        "    'Name':['Abcd',np.NAN,np.NAN,'sdfg'],\n",
        "    'Age':[22,np.NAN,np.NAN,40],\n",
        "    'Gender':['F',np.NAN,'M','F']\n",
        "}\n",
        "dataframe1=pd.DataFrame(d)\n",
        "print(dataframe1)\n",
        "\n",
        "print(dataframe1.isnull()) #checks each cell if it is null.\n",
        "print('\\n')\n",
        "print(dataframe1.isnull().sum())#gives sum of the cells that are there.\n",
        "print('\\n')\n",
        "\n",
        "print('\\n')\n",
        "dataframe1=dataframe1.dropna(how='all') # drops the rows which containing all the nulls.\n",
        "print(dataframe1)\n",
        "\n",
        "dataframe1=dataframe1.dropna() # drops the rows that contains null.\n",
        "print(dataframe1)\n"
      ],
      "metadata": {
        "colab": {
          "base_uri": "https://localhost:8080/"
        },
        "id": "xnuf5CYlFuJx",
        "outputId": "4e5add90-d3a7-49e1-9613-c0e20045cf20"
      },
      "execution_count": 22,
      "outputs": [
        {
          "output_type": "stream",
          "name": "stdout",
          "text": [
            "   Name   Age Gender\n",
            "0  Abcd  22.0      F\n",
            "1   NaN   NaN    NaN\n",
            "2   NaN   NaN      M\n",
            "3  sdfg  40.0      F\n",
            "    Name    Age  Gender\n",
            "0  False  False   False\n",
            "1   True   True    True\n",
            "2   True   True   False\n",
            "3  False  False   False\n",
            "\n",
            "\n",
            "Name      2\n",
            "Age       2\n",
            "Gender    1\n",
            "dtype: int64\n",
            "\n",
            "\n",
            "\n",
            "\n",
            "   Name   Age Gender\n",
            "0  Abcd  22.0      F\n",
            "2   NaN   NaN      M\n",
            "3  sdfg  40.0      F\n",
            "   Name   Age Gender\n",
            "0  Abcd  22.0      F\n",
            "3  sdfg  40.0      F\n"
          ]
        }
      ]
    },
    {
      "cell_type": "code",
      "source": [
        "#Filling the Null Values\n",
        "import pandas as pd\n",
        "import numpy as np\n",
        "\n",
        "d={\n",
        "    'Name':['Abcd',np.NAN,np.NAN,'sdfg'],\n",
        "    'Age':[22,np.NAN,np.NAN,40],\n",
        "    'Gender':['F',np.NAN,'M','F']\n",
        "}\n",
        "dataframe1=pd.DataFrame(d)\n",
        "print(dataframe1)\n",
        "print('\\n')\n",
        "print('\\n')\n",
        "# dataframe1=dataframe1.fillna({'Name':'Someone','Age':25,'Gender':'NA'})\n",
        "# print(dataframe1)\n",
        "print('\\n')\n",
        "dataframe1=dataframe1.fillna('NA')\n",
        "print(dataframe1)"
      ],
      "metadata": {
        "colab": {
          "base_uri": "https://localhost:8080/"
        },
        "id": "c-c_8hhwN8Uh",
        "outputId": "67524d05-f92c-4b8e-e6e7-cf74c852f35a"
      },
      "execution_count": 24,
      "outputs": [
        {
          "output_type": "stream",
          "name": "stdout",
          "text": [
            "   Name   Age Gender\n",
            "0  Abcd  22.0      F\n",
            "1   NaN   NaN    NaN\n",
            "2   NaN   NaN      M\n",
            "3  sdfg  40.0      F\n",
            "\n",
            "\n",
            "\n",
            "\n",
            "\n",
            "\n",
            "   Name   Age Gender\n",
            "0  Abcd  22.0      F\n",
            "1    NA    NA     NA\n",
            "2    NA    NA      M\n",
            "3  sdfg  40.0      F\n"
          ]
        }
      ]
    }
  ]
}